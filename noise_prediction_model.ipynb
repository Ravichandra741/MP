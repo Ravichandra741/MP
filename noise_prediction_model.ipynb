{
 "cells": [
  {
   "cell_type": "code",
   "execution_count": 4,
   "id": "249950ce-3946-437a-ba9d-4e860d52aa8c",
   "metadata": {},
   "outputs": [
    {
     "name": "stdout",
     "output_type": "stream",
     "text": [
      "Mean Absolute Error: 1.9661961559523828\n",
      "R-squared: 0.813753148377964\n",
      "Model and scaler saved as random_forest_noise_model.pkl and scaler.pkl\n"
     ]
    }
   ],
   "source": [
    "import pandas as pd\n",
    "from sklearn.model_selection import train_test_split\n",
    "from sklearn.ensemble import RandomForestRegressor\n",
    "from sklearn.metrics import mean_absolute_error, r2_score\n",
    "from sklearn.preprocessing import StandardScaler\n",
    "import joblib\n",
    "\n",
    "# Load the dataset\n",
    "df = pd.read_csv(\"noise_prediction_dataset.csv\")\n",
    "\n",
    "# Normalize the features (standardization)\n",
    "scaler = StandardScaler()\n",
    "scaled_features = scaler.fit_transform(df[[\"Temperature\", \"Pressure\", \"Humidity\", \"Wind Speed\", \"Traffic Density\"]])\n",
    "\n",
    "# Add the scaled features back to the dataframe\n",
    "df_scaled = pd.DataFrame(scaled_features, columns=[\"Temperature_scaled\", \"Pressure_scaled\", \"Humidity_scaled\", \"Wind Speed_scaled\", \"Traffic Density_scaled\"])\n",
    "df = df.join(df_scaled, rsuffix=\"_scaled\")\n",
    "\n",
    "# Prepare the data for model training\n",
    "X = df[[\"Temperature_scaled\", \"Pressure_scaled\", \"Humidity_scaled\", \"Wind Speed_scaled\", \"Traffic Density_scaled\"]]\n",
    "y = df[\"Noise Level\"]\n",
    "\n",
    "# Split the data into training and testing sets\n",
    "X_train, X_test, y_train, y_test = train_test_split(X, y, test_size=0.2, random_state=42)\n",
    "\n",
    "# Train a Random Forest model\n",
    "model = RandomForestRegressor(n_estimators=100, random_state=42)\n",
    "model.fit(X_train, y_train)\n",
    "\n",
    "# Predict on the test set\n",
    "y_pred = model.predict(X_test)\n",
    "\n",
    "# Evaluate the model\n",
    "mae = mean_absolute_error(y_test, y_pred)\n",
    "r2 = r2_score(y_test, y_pred)\n",
    "\n",
    "print(f\"Mean Absolute Error: {mae}\")\n",
    "print(f\"R-squared: {r2}\")\n",
    "\n",
    "# Save the trained model and scaler\n",
    "joblib.dump(model, \"random_forest_noise_model.pkl\")\n",
    "joblib.dump(scaler, \"scaler.pkl\")\n",
    "\n",
    "print(\"Model and scaler saved as random_forest_noise_model.pkl and scaler.pkl\")\n"
   ]
  },
  {
   "cell_type": "code",
   "execution_count": null,
   "id": "b064f487-beff-47ad-b9bb-c8b2701030c5",
   "metadata": {},
   "outputs": [],
   "source": []
  }
 ],
 "metadata": {
  "kernelspec": {
   "display_name": "Python 3 (ipykernel)",
   "language": "python",
   "name": "python3"
  },
  "language_info": {
   "codemirror_mode": {
    "name": "ipython",
    "version": 3
   },
   "file_extension": ".py",
   "mimetype": "text/x-python",
   "name": "python",
   "nbconvert_exporter": "python",
   "pygments_lexer": "ipython3",
   "version": "3.12.7"
  }
 },
 "nbformat": 4,
 "nbformat_minor": 5
}
