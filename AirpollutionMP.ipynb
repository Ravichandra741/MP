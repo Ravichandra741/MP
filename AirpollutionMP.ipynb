{
 "cells": [
  {
   "cell_type": "code",
   "execution_count": 6,
   "id": "f94b931d-0216-4468-9fd7-e9875e9afda9",
   "metadata": {},
   "outputs": [
    {
     "name": "stdout",
     "output_type": "stream",
     "text": [
      "Index(['City', 'Temperature', 'Pressure', 'Humidity', 'Wind Speed',\n",
      "       'Wind Direction', 'PM2.5', 'PM10', 'NO2', 'CO', 'O3', 'AQI'],\n",
      "      dtype='object')\n",
      "Model training complete. Saved as aqi_model.pkl\n"
     ]
    }
   ],
   "source": [
    "import pandas as pd\n",
    "from sklearn.model_selection import train_test_split\n",
    "from sklearn.ensemble import RandomForestRegressor\n",
    "import joblib\n",
    "\n",
    "# Load AQI dataset (Ensure your dataset has the correct columns)\n",
    "df = pd.read_csv(\"weather_aqi_dataset.csv\")\n",
    "print(df.columns)\n",
    "\n",
    "# Select relevant features & target\n",
    "X = df[['Temperature', 'Pressure', 'Wind Speed', 'Wind Direction', 'Humidity']]\n",
    "y = df['AQI']\n",
    "\n",
    "# Split data into training & test sets\n",
    "X_train, X_test, y_train, y_test = train_test_split(X, y, test_size=0.2, random_state=42)\n",
    "\n",
    "# Train model\n",
    "model = RandomForestRegressor(n_estimators=100, random_state=42)\n",
    "model.fit(X_train, y_train)\n",
    "\n",
    "# Save the trained model\n",
    "joblib.dump(model, \"aqi_model.pkl\")\n",
    "\n",
    "print(\"Model training complete. Saved as aqi_model.pkl\")\n",
    "\n"
   ]
  },
  {
   "cell_type": "code",
   "execution_count": null,
   "id": "cf9c7c83-285a-42a7-8ae5-7b3d22467158",
   "metadata": {},
   "outputs": [],
   "source": []
  }
 ],
 "metadata": {
  "kernelspec": {
   "display_name": "Python 3 (ipykernel)",
   "language": "python",
   "name": "python3"
  },
  "language_info": {
   "codemirror_mode": {
    "name": "ipython",
    "version": 3
   },
   "file_extension": ".py",
   "mimetype": "text/x-python",
   "name": "python",
   "nbconvert_exporter": "python",
   "pygments_lexer": "ipython3",
   "version": "3.12.7"
  }
 },
 "nbformat": 4,
 "nbformat_minor": 5
}
